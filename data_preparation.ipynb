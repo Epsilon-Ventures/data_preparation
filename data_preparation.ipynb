{
 "cells": [
  {
   "cell_type": "code",
   "execution_count": 36,
   "id": "7dd1674a-0a51-464d-8612-bd5779c23504",
   "metadata": {},
   "outputs": [],
   "source": [
    "import pandas as pd\n",
    "from sklearn.model_selection import train_test_split"
   ]
  },
  {
   "cell_type": "code",
   "execution_count": 3,
   "id": "ae80347a-54ae-4628-9235-d6c609d77c61",
   "metadata": {},
   "outputs": [
    {
     "data": {
      "text/html": [
       "<div>\n",
       "<style scoped>\n",
       "    .dataframe tbody tr th:only-of-type {\n",
       "        vertical-align: middle;\n",
       "    }\n",
       "\n",
       "    .dataframe tbody tr th {\n",
       "        vertical-align: top;\n",
       "    }\n",
       "\n",
       "    .dataframe thead th {\n",
       "        text-align: right;\n",
       "    }\n",
       "</style>\n",
       "<table border=\"1\" class=\"dataframe\">\n",
       "  <thead>\n",
       "    <tr style=\"text-align: right;\">\n",
       "      <th></th>\n",
       "      <th>question1</th>\n",
       "      <th>question2</th>\n",
       "    </tr>\n",
       "  </thead>\n",
       "  <tbody>\n",
       "    <tr>\n",
       "      <th>0</th>\n",
       "      <td>What are closed and open traverses? Explain Bo...</td>\n",
       "      <td>What are the differences between a closed and ...</td>\n",
       "    </tr>\n",
       "    <tr>\n",
       "      <th>1</th>\n",
       "      <td>Distinguish between stadia and tangential syst...</td>\n",
       "      <td>What is the difference between stadia and tang...</td>\n",
       "    </tr>\n",
       "    <tr>\n",
       "      <th>2</th>\n",
       "      <td>Find the elements of simple circular curve.</td>\n",
       "      <td>What are the components of a basic circular cu...</td>\n",
       "    </tr>\n",
       "    <tr>\n",
       "      <th>3</th>\n",
       "      <td>Two roads defect at angle of 600. The are to b...</td>\n",
       "      <td>i) What is the length of the tangents? ii) Wha...</td>\n",
       "    </tr>\n",
       "    <tr>\n",
       "      <th>4</th>\n",
       "      <td>Write various methods of sounding</td>\n",
       "      <td>What are some different ways to make a sound?</td>\n",
       "    </tr>\n",
       "  </tbody>\n",
       "</table>\n",
       "</div>"
      ],
      "text/plain": [
       "                                           question1  \\\n",
       "0  What are closed and open traverses? Explain Bo...   \n",
       "1  Distinguish between stadia and tangential syst...   \n",
       "2        Find the elements of simple circular curve.   \n",
       "3  Two roads defect at angle of 600. The are to b...   \n",
       "4                  Write various methods of sounding   \n",
       "\n",
       "                                           question2  \n",
       "0  What are the differences between a closed and ...  \n",
       "1  What is the difference between stadia and tang...  \n",
       "2  What are the components of a basic circular cu...  \n",
       "3  i) What is the length of the tangents? ii) Wha...  \n",
       "4      What are some different ways to make a sound?  "
      ]
     },
     "execution_count": 3,
     "metadata": {},
     "output_type": "execute_result"
    }
   ],
   "source": [
    "df = pd.read_csv(\"transfer_learning_data_final.csv\")\n",
    "df.head()"
   ]
  },
  {
   "cell_type": "code",
   "execution_count": 28,
   "id": "e4ebf162-9f06-4b9b-b7bc-84df6891af12",
   "metadata": {},
   "outputs": [],
   "source": [
    "X_train, X_test = train_test_split(df, test_size=0.2)"
   ]
  },
  {
   "cell_type": "code",
   "execution_count": 30,
   "id": "93a2d859-ef25-4c35-b16a-1463f51f7c9a",
   "metadata": {},
   "outputs": [
    {
     "data": {
      "text/plain": [
       "(7424, 2)"
      ]
     },
     "execution_count": 30,
     "metadata": {},
     "output_type": "execute_result"
    }
   ],
   "source": [
    "X_train.shape"
   ]
  },
  {
   "cell_type": "code",
   "execution_count": 31,
   "id": "9ca793c7-5672-45a9-ae22-5065d18189a1",
   "metadata": {},
   "outputs": [
    {
     "data": {
      "text/plain": [
       "(1857, 2)"
      ]
     },
     "execution_count": 31,
     "metadata": {},
     "output_type": "execute_result"
    }
   ],
   "source": [
    "X_test.shape"
   ]
  },
  {
   "cell_type": "code",
   "execution_count": 32,
   "id": "6e2f75f9-3ee3-46a8-86aa-0c2040645b11",
   "metadata": {},
   "outputs": [
    {
     "data": {
      "text/plain": [
       "(9281, 2)"
      ]
     },
     "execution_count": 32,
     "metadata": {},
     "output_type": "execute_result"
    }
   ],
   "source": [
    "df.shape"
   ]
  },
  {
   "cell_type": "code",
   "execution_count": 35,
   "id": "24c160c5-5dd1-4e39-976e-040b5c45d62f",
   "metadata": {},
   "outputs": [],
   "source": [
    "X_train.to_csv(\"training.csv\", index=False)\n",
    "X_test.to_csv(\"test.csv\", index=False)"
   ]
  }
 ],
 "metadata": {
  "kernelspec": {
   "display_name": "default:Python",
   "language": "python",
   "name": "conda-env-default-py"
  },
  "language_info": {
   "codemirror_mode": {
    "name": "ipython",
    "version": 3
   },
   "file_extension": ".py",
   "mimetype": "text/x-python",
   "name": "python",
   "nbconvert_exporter": "python",
   "pygments_lexer": "ipython3",
   "version": "3.9.13"
  }
 },
 "nbformat": 4,
 "nbformat_minor": 5
}
